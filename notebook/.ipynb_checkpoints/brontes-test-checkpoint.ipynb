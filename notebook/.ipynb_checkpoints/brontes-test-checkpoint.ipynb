{
 "cells": [
  {
   "cell_type": "code",
   "execution_count": null,
   "id": "d45d235e-0922-4a1e-8113-c71d47a85ddc",
   "metadata": {},
   "outputs": [],
   "source": [
    "import polars as pl\n",
    "\n",
    "def load_and_aggregate(path_to_blocks, path_to_bundles):\n",
    "    # Load the parquet files into Polars DataFrames\n",
    "    blocks_df = pl.read_parquet(path_to_blocks)\n",
    "    bundles_df = pl.read_parquet(path_to_bundles)\n",
    "\n",
    "    # Aggregate PNL by unique builder using 'builder_address' and 'builder_profit_usd'\n",
    "    pnl_by_builder = blocks_df.groupby(\"builder_address\").agg([\n",
    "        pl.col(\"builder_profit_usd\").sum().alias(\"total_builder_profit_usd\")\n",
    "    ])\n",
    "\n",
    "    # Aggregate PNL by unique searcher using 'eoa' and 'profit_usd'\n",
    "    pnl_by_searcher = bundles_df.groupby(\"eoa\").agg([\n",
    "        pl.col(\"profit_usd\").sum().alias(\"total_searcher_profit_usd\")\n",
    "    ])\n",
    "\n",
    "    return pnl_by_builder, pnl_by_searcher\n",
    "\n",
    "if __name__ == \"__main__\":\n",
    "    path_to_blocks = \"db/parquet/block_table.parquet\"\n",
    "    path_to_bundles = \"db/parquet/bundle_table.parquet\"\n",
    "\n",
    "    pnl_by_builder, pnl_by_searcher = load_and_aggregate(path_to_blocks, path_to_bundles)\n",
    "\n",
    "    # Optionally, print the results\n",
    "    print(\"PNL by Builder:\")\n",
    "    print(pnl_by_builder)\n",
    "    print(\"\\nPNL by Searcher:\")\n",
    "    print(pnl_by_searcher)\n"
   ]
  },
  {
   "cell_type": "code",
   "execution_count": null,
   "id": "4b4b3e7b-b001-4805-a38d-de5b9e8986e8",
   "metadata": {},
   "outputs": [],
   "source": []
  }
 ],
 "metadata": {
  "kernelspec": {
   "display_name": "Python 3 (ipykernel)",
   "language": "python",
   "name": "python3"
  },
  "language_info": {
   "codemirror_mode": {
    "name": "ipython",
    "version": 3
   },
   "file_extension": ".py",
   "mimetype": "text/x-python",
   "name": "python",
   "nbconvert_exporter": "python",
   "pygments_lexer": "ipython3",
   "version": "3.11.3"
  }
 },
 "nbformat": 4,
 "nbformat_minor": 5
}
