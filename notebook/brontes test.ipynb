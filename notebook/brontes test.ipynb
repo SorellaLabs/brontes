{
 "cells": [
  {
   "cell_type": "code",
   "execution_count": 8,
   "id": "865c7227-8ee3-4eeb-aec7-9f44ecd0dd57",
   "metadata": {},
   "outputs": [],
   "source": [
    "name = \"hello\"\n"
   ]
  },
  {
   "cell_type": "code",
   "execution_count": 9,
   "id": "8b37c0ee-678e-437d-8794-66ff270e642a",
   "metadata": {},
   "outputs": [
    {
     "data": {
      "text/plain": [
       "'hello'"
      ]
     },
     "execution_count": 9,
     "metadata": {},
     "output_type": "execute_result"
    }
   ],
   "source": [
    "name"
   ]
  }
 ],
 "metadata": {
  "kernelspec": {
   "display_name": "Python 3 (ipykernel)",
   "language": "python",
   "name": "python3"
  },
  "language_info": {
   "codemirror_mode": {
    "name": "ipython",
    "version": 3
   },
   "file_extension": ".py",
   "mimetype": "text/x-python",
   "name": "python",
   "nbconvert_exporter": "python",
   "pygments_lexer": "ipython3",
   "version": "3.11.3"
  }
 },
 "nbformat": 4,
 "nbformat_minor": 5
}
